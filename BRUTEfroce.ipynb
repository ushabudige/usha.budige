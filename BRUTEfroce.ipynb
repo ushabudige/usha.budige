{
 "cells": [
  {
   "cell_type": "code",
   "execution_count": 1,
   "id": "5a0df1a7",
   "metadata": {},
   "outputs": [
    {
     "name": "stdout",
     "output_type": "stream",
     "text": [
      "Enter the Text:\n",
      "anbfdhjdfjjfds\n",
      "Enter The Pattern:dhj\n",
      "Matching Found At 5\n"
     ]
    }
   ],
   "source": [
    "Text = input(\"Enter the Text:\\n\")\n",
    "Pattern = input(\"Enter The Pattern:\")\n",
    "Text_Length = len(Text)\n",
    "Pattern_Length = len(Pattern)\n",
    "if Pattern_Length > Text_Length:\n",
    "\tprint(\"No Match Found\")\n",
    "else:\n",
    "\tFound = False\n",
    "\tfor i in range(0,Text_Length):\n",
    "\t\tj = 0\n",
    "\t\twhile (j < Pattern_Length and Text[i] == Pattern[j] ):\n",
    "\t\t\ti=i+1\n",
    "\t\t\tj=j+1\n",
    "\t\tif j == Pattern_Length:\n",
    "\t\t\tFound = True\n",
    "\t\t\tprint(\"Matching Found At \" + str(i-Pattern_Length+1))\n",
    "\tif not Found:\t\t\n",
    "\t\tprint(\"No Matching Found\")\n"
   ]
  },
  {
   "cell_type": "code",
   "execution_count": null,
   "id": "fb6b9aeb",
   "metadata": {},
   "outputs": [],
   "source": []
  }
 ],
 "metadata": {
  "kernelspec": {
   "display_name": "Python 3",
   "language": "python",
   "name": "python3"
  },
  "language_info": {
   "codemirror_mode": {
    "name": "ipython",
    "version": 3
   },
   "file_extension": ".py",
   "mimetype": "text/x-python",
   "name": "python",
   "nbconvert_exporter": "python",
   "pygments_lexer": "ipython3",
   "version": "3.8.8"
  }
 },
 "nbformat": 4,
 "nbformat_minor": 5
}

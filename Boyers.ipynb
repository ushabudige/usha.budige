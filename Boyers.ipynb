{
 "cells": [
  {
   "cell_type": "code",
   "execution_count": 1,
   "id": "729e2644",
   "metadata": {},
   "outputs": [
    {
     "name": "stdout",
     "output_type": "stream",
     "text": [
      "Text:  BVRITHYDERABAD COLLEGE OF ENGINEERING FOR WOMEN\n",
      "Match: ......................................38\n",
      "Text:  BVRITHYDERABAD COLLEGE OF ENGINEERING FOR WOMEN\n",
      "Match: -1\n"
     ]
    }
   ],
   "source": [
    "class last_occurrence(object):\n",
    "    \n",
    "    def __init__(self, pattern, alphabet):\n",
    "       \n",
    "        self.occurrences = dict()\n",
    "        for  letter  in  alphabet :\n",
    "            self.occurrences[letter] = pattern.rfind(letter)\n",
    "\n",
    "    def __call__(self, letter):\n",
    "        \n",
    "        return self.occurrences[letter]\n",
    "\n",
    "\n",
    "def boyer_moore_match(text, pattern):\n",
    "   \n",
    "    alphabet = set(text)\n",
    "    last = last_occurrence(pattern, alphabet)\n",
    "    m = len(pattern)\n",
    "    n  =  len ( text )\n",
    "    i = m - 1  # text index\n",
    "    j = m - 1  # pattern index\n",
    "    while i < n:\n",
    "        if text[i] == pattern[j]:\n",
    "            if  j  ==  0 :\n",
    "                return  i\n",
    "            else:\n",
    "                i -= 1\n",
    "                j -= 1\n",
    "        else:\n",
    "            l = last(text[i])\n",
    "            i  =  i  +  m  -  min ( j , 1 + l )\n",
    "            j = m - 1 \n",
    "    return -1\n",
    "\n",
    "\n",
    "\n",
    "### TEST FUNCTION ###\n",
    "\n",
    "if __name__ == '__main__':\n",
    "        \n",
    "    def show_match(text, pattern):\n",
    "        print ('Text:  %s' % text)\n",
    "        pattern = boyer_moore_match(text, pattern)\n",
    "        print ( 'Match: %s%s' % ('.'*pattern, pattern))\n",
    "\n",
    "    text = 'BVRITHYDERABAD COLLEGE OF ENGINEERING FOR WOMEN'\n",
    "    pattern  =  'FOR'\n",
    "    show_match(text, pattern)\n",
    "    show_match(text, pattern + 'e')\n",
    "\n"
   ]
  },
  {
   "cell_type": "code",
   "execution_count": null,
   "id": "35f99eca",
   "metadata": {},
   "outputs": [],
   "source": []
  }
 ],
 "metadata": {
  "kernelspec": {
   "display_name": "Python 3",
   "language": "python",
   "name": "python3"
  },
  "language_info": {
   "codemirror_mode": {
    "name": "ipython",
    "version": 3
   },
   "file_extension": ".py",
   "mimetype": "text/x-python",
   "name": "python",
   "nbconvert_exporter": "python",
   "pygments_lexer": "ipython3",
   "version": "3.8.8"
  }
 },
 "nbformat": 4,
 "nbformat_minor": 5
}

{
 "cells": [
  {
   "cell_type": "code",
   "execution_count": 1,
   "id": "51df50c9",
   "metadata": {},
   "outputs": [
    {
     "name": "stdout",
     "output_type": "stream",
     "text": [
      "Pattern occurs with shift 2\n",
      "Pattern occurs with shift 8\n"
     ]
    }
   ],
   "source": [
    "def KMP(X, Y):\n",
    " \n",
    "    # base case 1: `Y` is None or empty\n",
    "    if Y is None or not Y:\n",
    "        print(\"The pattern occurs with shift 0\")\n",
    "        return\n",
    " \n",
    "    # base case 2: `X` is None, or X's length is less than that of Y's\n",
    "    if X is None or len(Y) > len(X):\n",
    "        print(\"Pattern not found\")\n",
    "        return\n",
    " \n",
    "    chars = list(Y)\n",
    " \n",
    "    # `next[i]` stores the index of the next best partial match\n",
    "    next = [0] * (len(Y) + 1)\n",
    " \n",
    "    for i in range(1, len(Y)):\n",
    "        j = next[i + 1]\n",
    " \n",
    "        while j > 0 and chars[j] is not chars[i]:\n",
    "            j = next[j]\n",
    " \n",
    "        if j > 0 or chars[j] == chars[i]:\n",
    "            next[i + 1] = j + 1\n",
    " \n",
    "    j = 0\n",
    "    for i in range(len(X)):\n",
    " \n",
    "        if j < len(Y) and X[i] == Y[j]:\n",
    "            j = j + 1\n",
    "            if j == len(Y):\n",
    "                print(\"Pattern occurs with shift\", (i - j + 1))\n",
    "        elif j > 0:\n",
    "            j = next[j]\n",
    "            i = i - 1        # since `i` will be incremented in the next iteration\n",
    "         \n",
    "\n",
    "   \n",
    "# Program to implement the KMP algorithm in Python\n",
    "if __name__ == '__main__':\n",
    " \n",
    "    text = \"ABCABAABCABAC\"\n",
    "    pattern = \"CAB\"\n",
    " \n",
    "    KMP(text, pattern)\n",
    "\n"
   ]
  },
  {
   "cell_type": "code",
   "execution_count": null,
   "id": "31319139",
   "metadata": {},
   "outputs": [],
   "source": []
  }
 ],
 "metadata": {
  "kernelspec": {
   "display_name": "Python 3",
   "language": "python",
   "name": "python3"
  },
  "language_info": {
   "codemirror_mode": {
    "name": "ipython",
    "version": 3
   },
   "file_extension": ".py",
   "mimetype": "text/x-python",
   "name": "python",
   "nbconvert_exporter": "python",
   "pygments_lexer": "ipython3",
   "version": "3.8.8"
  }
 },
 "nbformat": 4,
 "nbformat_minor": 5
}

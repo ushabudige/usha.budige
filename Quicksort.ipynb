{
 "cells": [
  {
   "cell_type": "code",
   "execution_count": 1,
   "id": "dd6ad693",
   "metadata": {},
   "outputs": [
    {
     "name": "stdout",
     "output_type": "stream",
     "text": [
      "Enter the list of numbers: 5\n",
      "Sorted list: [5]\n"
     ]
    }
   ],
   "source": [
    "def quicksort(l, begin, end):\n",
    "    '''Sorts the list from indexes start to end - 1 inclusive.'''\n",
    "    if end - begin > 1:\n",
    "        p = partition(l, begin, end)\n",
    "        quicksort(l, begin, p)\n",
    "        quicksort(l, p + 1, end)\n",
    " \n",
    " \n",
    "def partition(l, begin, end):\n",
    "    pivot = l[begin]\n",
    "    i = begin + 1\n",
    "    j = end - 1\n",
    " \n",
    "    while True:\n",
    "        while (i <= j and l[i] <= pivot):\n",
    "            i = i + 1\n",
    "        while (i <= j and l[j] >= pivot):\n",
    "            j = j - 1\n",
    " \n",
    "        if i <= j:\n",
    "            l[i], l[j] = l[j], l[i]\n",
    "        else:\n",
    "            l[begin], l[j] = l[j], l[begin]\n",
    "            return j\n",
    " \n",
    " \n",
    "l = input('Enter the list of numbers: ').split()\n",
    "l = [int(x) for x in l]\n",
    "quicksort(l, 0, len(l))\n",
    "print('Sorted list: ', end='')\n",
    "print(l)\n"
   ]
  }
 ],
 "metadata": {
  "kernelspec": {
   "display_name": "Python 3",
   "language": "python",
   "name": "python3"
  },
  "language_info": {
   "codemirror_mode": {
    "name": "ipython",
    "version": 3
   },
   "file_extension": ".py",
   "mimetype": "text/x-python",
   "name": "python",
   "nbconvert_exporter": "python",
   "pygments_lexer": "ipython3",
   "version": "3.8.8"
  }
 },
 "nbformat": 4,
 "nbformat_minor": 5
}

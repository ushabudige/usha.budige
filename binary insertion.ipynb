{
 "cells": [
  {
   "cell_type": "code",
   "execution_count": 1,
   "id": "94266bfb",
   "metadata": {},
   "outputs": [
    {
     "name": "stdout",
     "output_type": "stream",
     "text": [
      "Inorder traversal after insertion: 2 4 5 6 8 9 10 "
     ]
    }
   ],
   "source": [
    "class Tree: \n",
    "  \n",
    "    def __init__(node, value): \n",
    "        node.value = value  \n",
    "        node.left = None\n",
    "        node.right = None\n",
    "    \n",
    "    def Inorder( node, Root ): \n",
    "        if( Root is None ): \n",
    "            return\n",
    "        node.Inorder(Root.left) \n",
    "        print(Root.value,end = ' ') \n",
    "        node.Inorder(Root.right) \n",
    "  \n",
    "    def Insert ( node, value ) : \n",
    "        if node is None: \n",
    "            node = Tree(value)\n",
    "        elif value < node.value:\n",
    "            if node.left is None:\n",
    "                node.left = Tree(value)\n",
    "            else:\n",
    "               node.left.Insert(value) \n",
    "        else:\n",
    "            if node.right is None:\n",
    "                node.right = Tree(value)\n",
    "            else:\n",
    "                node.right.Insert(value)\n",
    "Root = Tree(6) \n",
    "Root.Insert(4) \n",
    "Root.Insert(2) \n",
    "Root.Insert(5) \n",
    "Root.Insert(9) \n",
    "Root.Insert(8) \n",
    "Root.Insert( 10) \n",
    "print (\"Inorder traversal after insertion: \",end = '')\n",
    "Root.Inorder(Root)"
   ]
  },
  {
   "cell_type": "code",
   "execution_count": null,
   "id": "64d18778",
   "metadata": {},
   "outputs": [],
   "source": []
  }
 ],
 "metadata": {
  "kernelspec": {
   "display_name": "Python 3",
   "language": "python",
   "name": "python3"
  },
  "language_info": {
   "codemirror_mode": {
    "name": "ipython",
    "version": 3
   },
   "file_extension": ".py",
   "mimetype": "text/x-python",
   "name": "python",
   "nbconvert_exporter": "python",
   "pygments_lexer": "ipython3",
   "version": "3.8.8"
  }
 },
 "nbformat": 4,
 "nbformat_minor": 5
}

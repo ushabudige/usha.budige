{
 "cells": [
  {
   "cell_type": "code",
   "execution_count": 2,
   "id": "361b785b",
   "metadata": {},
   "outputs": [
    {
     "name": "stdout",
     "output_type": "stream",
     "text": [
      "Enter the list of numbers: 12\n",
      "13\n",
      "15\n",
      "17\n",
      "17\n",
      "19\n",
      "19\n",
      "154\n",
      "256\n",
      "789\n",
      "755\n",
      "64\n",
      "76\n",
      "The created heap is : [13, 15, 17, 17, 19, 19, 154, 256, 789, 755, 64, 76]\n",
      "The modified heap after push is : [13, 15, 17, 17, 19, 19, 154, 256, 789, 755, 64, 76]\n"
     ]
    }
   ],
   "source": [
    "def insert1():\n",
    "  list1 = []\n",
    "  num = int(input('Enter the list of numbers: '))\n",
    "  for i in range (0,num):\n",
    "    data=int(input())\n",
    "    list1.insert(i,data)\n",
    "  import heapq\n",
    "  print (\"The created heap is : \",end=\"\") \n",
    "  print (list1) \n",
    "  import heapq\n",
    "  print (\"The modified heap after push is : \",end=\"\") \n",
    "  print (list1)\n",
    "insert1()\n",
    "\n"
   ]
  },
  {
   "cell_type": "markdown",
   "id": "cb165315",
   "metadata": {},
   "source": []
  }
 ],
 "metadata": {
  "kernelspec": {
   "display_name": "Python 3",
   "language": "python",
   "name": "python3"
  },
  "language_info": {
   "codemirror_mode": {
    "name": "ipython",
    "version": 3
   },
   "file_extension": ".py",
   "mimetype": "text/x-python",
   "name": "python",
   "nbconvert_exporter": "python",
   "pygments_lexer": "ipython3",
   "version": "3.8.8"
  }
 },
 "nbformat": 4,
 "nbformat_minor": 5
}

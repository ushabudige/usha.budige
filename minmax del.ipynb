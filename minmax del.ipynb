{
 "cells": [
  {
   "cell_type": "code",
   "execution_count": 21,
   "id": "a5b33669",
   "metadata": {},
   "outputs": [
    {
     "name": "stdout",
     "output_type": "stream",
     "text": [
      "Enter the list of numbers: 4\n",
      "12\n",
      "15\n",
      "7\n",
      "9\n",
      "The popped and smallest element is : 12\n",
      "The popped and largest element is : 15\n",
      "[7, 9]\n"
     ]
    }
   ],
   "source": [
    "def del1():\n",
    "  list1 = []\n",
    "  num = int(input('Enter the list of numbers: '))\n",
    "  for i in range (0,num):\n",
    "    data=int(input())\n",
    "    list1.insert(i,data)\n",
    "    import heapq\n",
    "  print (\"The popped and smallest element is : \",end=\"\") \n",
    "  print (heapq.heappop(list1))\n",
    "  list1.sort()\n",
    "  # using heappop() to pop largest element \n",
    "  print (\"The popped and largest element is : \",end=\"\")\n",
    "  list1.reverse()\n",
    "  print (heapq.heappop(list1))\n",
    "  list1.reverse()\n",
    "  list1.sort()\n",
    "  print(list1)\n",
    "del1()"
   ]
  },
  {
   "cell_type": "code",
   "execution_count": null,
   "id": "b58db4ab",
   "metadata": {},
   "outputs": [],
   "source": []
  }
 ],
 "metadata": {
  "kernelspec": {
   "display_name": "Python 3",
   "language": "python",
   "name": "python3"
  },
  "language_info": {
   "codemirror_mode": {
    "name": "ipython",
    "version": 3
   },
   "file_extension": ".py",
   "mimetype": "text/x-python",
   "name": "python",
   "nbconvert_exporter": "python",
   "pygments_lexer": "ipython3",
   "version": "3.8.8"
  }
 },
 "nbformat": 4,
 "nbformat_minor": 5
}

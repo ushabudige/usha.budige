{
 "cells": [
  {
   "cell_type": "code",
   "execution_count": 1,
   "id": "fe134181",
   "metadata": {},
   "outputs": [
    {
     "name": "stdout",
     "output_type": "stream",
     "text": [
      "Enter the list of numbers: 5\n",
      "12\n",
      "14\n",
      "15\n",
      "18\n",
      "19\n",
      "Enter the element to be searched:56\n",
      "element not found\n"
     ]
    }
   ],
   "source": [
    "def search1():\n",
    "  list1 = []\n",
    "  num = int(input('Enter the list of numbers: '))\n",
    "  for i in range (0,num):\n",
    "    data=int(input())\n",
    "    list1.insert(i,data)\n",
    "  import heapq\n",
    "  search=int(input(\"Enter the element to be searched:\"))\n",
    "  count=1\n",
    "  for i in range(0,len(list1)):\n",
    "      if(search==list1[i]):\n",
    "          print(\"Element found at\",i+1)\n",
    "          count=0\n",
    "          break\n",
    "  if(not count==0):\n",
    "    print(\"element not found\")\n",
    "search1()\n"
   ]
  },
  {
   "cell_type": "code",
   "execution_count": null,
   "id": "e01a6f4d",
   "metadata": {},
   "outputs": [],
   "source": []
  }
 ],
 "metadata": {
  "kernelspec": {
   "display_name": "Python 3",
   "language": "python",
   "name": "python3"
  },
  "language_info": {
   "codemirror_mode": {
    "name": "ipython",
    "version": 3
   },
   "file_extension": ".py",
   "mimetype": "text/x-python",
   "name": "python",
   "nbconvert_exporter": "python",
   "pygments_lexer": "ipython3",
   "version": "3.8.8"
  }
 },
 "nbformat": 4,
 "nbformat_minor": 5
}

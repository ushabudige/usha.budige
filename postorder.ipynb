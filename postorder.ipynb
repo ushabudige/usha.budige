#postorder
class Tree:
    def __init__(node,value):
        node.value = value
        node.right = None
        node.left = None
    def create_node(node,value):
        if (node.value is None):
            node.value = value
        else:
            if( value < node.value ):
                if (node.left is None): 
                    node.left = Tree(value)
                else:
                    node.left.create_node(value)
            elif( value > node.value ):
                if ( node.right is None):
                    node.right = Tree(value)
                else:
                    node.right.create_node(value)
    def Postorder( node, Root ):
        
        if( Root is None ):
            return
        node.Postorder(Root.left)
        node.Postorder(Root.right)
        print(Root.value,end = ' ')
    
Root = Tree(5)
Root.create_node(7)
Root.create_node(2)
Root.create_node(3)
Root.create_node(6)
Root.create_node(1)
Root.create_node(8)
print('Postorder traversal :',end = '')
Root.Postorder(Root)

output:
Postorder traversal :1 3 2 6 8 7 5 